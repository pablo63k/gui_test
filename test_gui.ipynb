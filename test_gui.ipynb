{
 "cells": [
  {
   "cell_type": "code",
   "execution_count": 1,
   "metadata": {},
   "outputs": [],
   "source": [
    "from tkinter import *\n",
    "\n",
    "OPTIONS = [\n",
    "\"FX Forward\",\n",
    "\"FX Options\",\n",
    "\"FX Swaps\",\n",
    "\"Warrants\"\n",
    "] #etc\n",
    "\n",
    "master = Tk()\n",
    "master.title(\"Derivatives Pricer Menu\")\n",
    "myLabel2 = Label(master,text=\"Please choose the appropriate pricer\")\n",
    "#Put thongs together\n",
    "myLabel2.pack()\n",
    "variable = StringVar(master)\n",
    "variable.set(OPTIONS[0]) # default value\n",
    "\n",
    "w = OptionMenu(master, variable, *OPTIONS)\n",
    "w.pack()\n",
    "\n",
    "def ok():\n",
    "    #print (\"value is:\" + variable.get())\n",
    "    myLabel=Label(master,text=\"value is:\" + variable.get())\n",
    "    myLabel.pack()\n",
    "    \n",
    "\n",
    "button = Button(master, text=\"OK\", command=ok)\n",
    "button.pack()\n",
    "\n",
    "mainloop()"
   ]
  },
  {
   "cell_type": "code",
   "execution_count": null,
   "metadata": {},
   "outputs": [],
   "source": []
  }
 ],
 "metadata": {
  "kernelspec": {
   "display_name": "Python 3",
   "language": "python",
   "name": "python3"
  },
  "language_info": {
   "codemirror_mode": {
    "name": "ipython",
    "version": 3
   },
   "file_extension": ".py",
   "mimetype": "text/x-python",
   "name": "python",
   "nbconvert_exporter": "python",
   "pygments_lexer": "ipython3",
   "version": "3.7.4"
  }
 },
 "nbformat": 4,
 "nbformat_minor": 4
}
